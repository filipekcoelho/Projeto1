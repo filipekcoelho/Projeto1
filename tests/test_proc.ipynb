{
 "cells": [
  {
   "cell_type": "markdown",
   "id": "e117b1c3-e7ef-47f8-91e2-df4da5edc474",
   "metadata": {},
   "source": [
    "# Módulo de processamento"
   ]
  },
  {
   "cell_type": "markdown",
   "id": "88307e76-6f43-46e4-96c1-59c0d78f8cfa",
   "metadata": {},
   "source": [
    "## Requisito 1: desenvolvimento da função de soma"
   ]
  },
  {
   "cell_type": "code",
   "execution_count": 15,
   "id": "b11d92ef-a1db-4a05-9046-b884ae21646e",
   "metadata": {
    "tags": []
   },
   "outputs": [
    {
     "data": {
      "text/plain": [
       "11"
      ]
     },
     "execution_count": 15,
     "metadata": {},
     "output_type": "execute_result"
    }
   ],
   "source": [
    "def somadora(numero1:float, numero2:float) -> float:\n",
    "    \"\"\"Esta função pega dois números reais e retorna a soma deles\"\"\"\n",
    "    return numero1 + numero2\n",
    "\n",
    "somadora(7,4)"
   ]
  },
  {
   "cell_type": "markdown",
   "id": "fd4b8fd8-e26c-4351-a86b-58158d87d0c6",
   "metadata": {},
   "source": [
    "## Requisito 2: desenvolvimento da função de subtração"
   ]
  },
  {
   "cell_type": "code",
   "execution_count": 14,
   "id": "cced5f5c-e46d-42ed-8c8e-8589d37e04c6",
   "metadata": {
    "tags": []
   },
   "outputs": [
    {
     "data": {
      "text/plain": [
       "1"
      ]
     },
     "execution_count": 14,
     "metadata": {},
     "output_type": "execute_result"
    }
   ],
   "source": [
    "def diminuidora(numero1:float, numero2:float) -> float:\n",
    "    \"\"\"Esta função pega dois números reais e retorna a subtração deles\"\"\"\n",
    "    return numero1 - numero2\n",
    "\n",
    "diminuidora(10,9)"
   ]
  },
  {
   "cell_type": "markdown",
   "id": "487699bf-7e19-439e-952b-08f4d1434e1a",
   "metadata": {},
   "source": [
    "## Requisito 3: desenvolvimento da função de multiplicação"
   ]
  },
  {
   "cell_type": "code",
   "execution_count": 17,
   "id": "e6261977-41b0-4303-b55d-b7ead9890503",
   "metadata": {
    "tags": []
   },
   "outputs": [
    {
     "data": {
      "text/plain": [
       "20"
      ]
     },
     "execution_count": 17,
     "metadata": {},
     "output_type": "execute_result"
    }
   ],
   "source": [
    "def mult(numero1:float, numero2:float) -> float:\n",
    "    \"\"\"Esta função pega dois números reais e retorna a multiplicação deles\"\"\"\n",
    "    return numero1 * numero2\n",
    "\n",
    "mult(10,2)"
   ]
  },
  {
   "cell_type": "markdown",
   "id": "d06ce9d9-5ff9-4490-904c-4fe6f015b1b8",
   "metadata": {},
   "source": [
    "## Requisito 4: desenvolvimento da função de divisão"
   ]
  },
  {
   "cell_type": "code",
   "execution_count": 25,
   "id": "39186b3a-3e57-4cc6-9e28-e73d5c48a9f7",
   "metadata": {
    "tags": []
   },
   "outputs": [
    {
     "data": {
      "text/plain": [
       "5.0"
      ]
     },
     "execution_count": 25,
     "metadata": {},
     "output_type": "execute_result"
    }
   ],
   "source": [
    "def div(numero1:float, numero2:float) -> float:\n",
    "    \"\"\"Esta função pega dois números reais e retorna a divisão deles\"\"\"\n",
    "    if numero2 == 0:\n",
    "        resultado = \"Não existe divisão por zero.\"\n",
    "    else:\n",
    "        resultado = numero1/numero2\n",
    "    return resultado\n",
    "\n",
    "div(10,2)"
   ]
  },
  {
   "cell_type": "code",
   "execution_count": 26,
   "id": "45acc89b-e18b-4a87-b49a-076d80de1f62",
   "metadata": {
    "tags": []
   },
   "outputs": [
    {
     "ename": "TypeError",
     "evalue": "unsupported operand type(s) for /: 'str' and 'str'",
     "output_type": "error",
     "traceback": [
      "\u001b[1;31m---------------------------------------------------------------------------\u001b[0m",
      "\u001b[1;31mTypeError\u001b[0m                                 Traceback (most recent call last)",
      "Cell \u001b[1;32mIn[26], line 9\u001b[0m\n\u001b[0;32m      6\u001b[0m         resultado \u001b[38;5;241m=\u001b[39m numero1\u001b[38;5;241m/\u001b[39mnumero2\n\u001b[0;32m      7\u001b[0m     \u001b[38;5;28;01mreturn\u001b[39;00m resultado\n\u001b[1;32m----> 9\u001b[0m div(\u001b[38;5;124m\"\u001b[39m\u001b[38;5;124mcasa\u001b[39m\u001b[38;5;124m\"\u001b[39m,\u001b[38;5;124m\"\u001b[39m\u001b[38;5;124mbarriga\u001b[39m\u001b[38;5;124m\"\u001b[39m)\n",
      "Cell \u001b[1;32mIn[26], line 6\u001b[0m, in \u001b[0;36mdiv\u001b[1;34m(numero1, numero2)\u001b[0m\n\u001b[0;32m      4\u001b[0m     resultado \u001b[38;5;241m=\u001b[39m \u001b[38;5;124m\"\u001b[39m\u001b[38;5;124mNão existe divisão por zero.\u001b[39m\u001b[38;5;124m\"\u001b[39m\n\u001b[0;32m      5\u001b[0m \u001b[38;5;28;01melse\u001b[39;00m:\n\u001b[1;32m----> 6\u001b[0m     resultado \u001b[38;5;241m=\u001b[39m numero1\u001b[38;5;241m/\u001b[39mnumero2\n\u001b[0;32m      7\u001b[0m \u001b[38;5;28;01mreturn\u001b[39;00m resultado\n",
      "\u001b[1;31mTypeError\u001b[0m: unsupported operand type(s) for /: 'str' and 'str'"
     ]
    }
   ],
   "source": [
    "def div(numero1:float, numero2:float) -> float:\n",
    "    \"\"\"Esta função pega dois números reais e retorna a divisão deles\"\"\"\n",
    "    if numero2 == 0:\n",
    "        resultado = \"Não existe divisão por zero.\"\n",
    "    else:\n",
    "        resultado = numero1/numero2\n",
    "    return resultado\n",
    "\n",
    "div(\"casa\",\"barriga\")"
   ]
  },
  {
   "cell_type": "code",
   "execution_count": null,
   "id": "b21366b7-0b2f-4aeb-b2a2-53a25181f902",
   "metadata": {},
   "outputs": [],
   "source": []
  }
 ],
 "metadata": {
  "kernelspec": {
   "display_name": "Python 3 (ipykernel)",
   "language": "python",
   "name": "python3"
  },
  "language_info": {
   "codemirror_mode": {
    "name": "ipython",
    "version": 3
   },
   "file_extension": ".py",
   "mimetype": "text/x-python",
   "name": "python",
   "nbconvert_exporter": "python",
   "pygments_lexer": "ipython3",
   "version": "3.11.5"
  }
 },
 "nbformat": 4,
 "nbformat_minor": 5
}
