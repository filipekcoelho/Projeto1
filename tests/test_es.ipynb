{
 "cells": [
  {
   "cell_type": "markdown",
   "id": "d0ff39a1-bf56-44f7-9bfd-891765f76ac8",
   "metadata": {},
   "source": [
    "# Módulo de entrada e saída\n",
    "\n",
    "Este módulo oferece funções de entrada e saída de dados"
   ]
  },
  {
   "cell_type": "code",
   "execution_count": 8,
   "id": "f19478bc-f042-4720-823b-383641fa9fa4",
   "metadata": {
    "tags": []
   },
   "outputs": [
    {
     "name": "stdin",
     "output_type": "stream",
     "text": [
      "Digite o primeiro número que deseja operar 6\n"
     ]
    }
   ],
   "source": [
    "# Entrada de dados\n",
    "\n",
    "numero1 = input(\"Digite o primeiro número que deseja operar\")"
   ]
  },
  {
   "cell_type": "code",
   "execution_count": 9,
   "id": "26b04f58-a111-4142-ba31-585d6165b54d",
   "metadata": {
    "tags": []
   },
   "outputs": [
    {
     "data": {
      "text/plain": [
       "'6'"
      ]
     },
     "execution_count": 9,
     "metadata": {},
     "output_type": "execute_result"
    }
   ],
   "source": [
    "numero1"
   ]
  },
  {
   "cell_type": "code",
   "execution_count": 10,
   "id": "ab3f5aec-c1c6-4c52-be41-f6c10ceddb60",
   "metadata": {
    "tags": []
   },
   "outputs": [
    {
     "ename": "TypeError",
     "evalue": "can only concatenate str (not \"int\") to str",
     "output_type": "error",
     "traceback": [
      "\u001b[1;31m---------------------------------------------------------------------------\u001b[0m",
      "\u001b[1;31mTypeError\u001b[0m                                 Traceback (most recent call last)",
      "Cell \u001b[1;32mIn[10], line 1\u001b[0m\n\u001b[1;32m----> 1\u001b[0m numero1\u001b[38;5;241m+\u001b[39m\u001b[38;5;241m5\u001b[39m\n",
      "\u001b[1;31mTypeError\u001b[0m: can only concatenate str (not \"int\") to str"
     ]
    }
   ],
   "source": [
    "numero1+5"
   ]
  },
  {
   "cell_type": "code",
   "execution_count": 14,
   "id": "857bcbb7-9e96-4f99-8238-bb4feacfdd9f",
   "metadata": {
    "tags": []
   },
   "outputs": [
    {
     "name": "stdin",
     "output_type": "stream",
     "text": [
      "Digite o primeiro número que deseja operar 6\n"
     ]
    }
   ],
   "source": [
    "#Transformei a entrada de dados em um número do tipo float\n",
    "\n",
    "numero1 = float(input(\"Digite o primeiro número que deseja operar\")) "
   ]
  },
  {
   "cell_type": "code",
   "execution_count": 16,
   "id": "92ed35e1-1056-42e0-b16b-38bf83f9c3d3",
   "metadata": {
    "tags": []
   },
   "outputs": [
    {
     "data": {
      "text/plain": [
       "14.0"
      ]
     },
     "execution_count": 16,
     "metadata": {},
     "output_type": "execute_result"
    }
   ],
   "source": [
    "numero1+8"
   ]
  },
  {
   "cell_type": "code",
   "execution_count": 18,
   "id": "7816737a-e20d-4f24-8349-ebd40903c530",
   "metadata": {
    "tags": []
   },
   "outputs": [
    {
     "name": "stdin",
     "output_type": "stream",
     "text": [
      "Digite o primeiro número que deseja operar 5\n",
      "Digite o primeiro número que deseja operar 7\n"
     ]
    },
    {
     "data": {
      "text/plain": [
       "[5.0, 7.0]"
      ]
     },
     "execution_count": 18,
     "metadata": {},
     "output_type": "execute_result"
    }
   ],
   "source": [
    "# Função que lê dois números\n",
    "def reader():\n",
    "    i = 0\n",
    "    numeros = []\n",
    "    while i < 2:\n",
    "        numeros.append(float(input(\"Digite o primeiro número que deseja operar\"))) \n",
    "        i+=1\n",
    "    return numeros\n",
    "                       \n",
    "reader()"
   ]
  },
  {
   "cell_type": "code",
   "execution_count": 31,
   "id": "a45bbcdf-720e-4c1e-bab0-93a729abc5e6",
   "metadata": {
    "tags": []
   },
   "outputs": [],
   "source": [
    "# Função que lê dois números sem repetir a frase\n",
    "def leitora_numeros() -> list:\n",
    "    \"\"\"Esta função solicita entrada de dados do usuário (números a serem usados na calculadora) e armazena essa informação em uma lista.\"\"\"\n",
    "    i = 0\n",
    "    numeros = []\n",
    "    while i < 2:\n",
    "        numeros.append(float(input(f\"Digite o número {i+1} que deseja operar\"))) \n",
    "        i+=1\n",
    "    return numeros\n",
    "                       "
   ]
  },
  {
   "cell_type": "code",
   "execution_count": 22,
   "id": "64d09ec2-0429-45b4-903e-28ea59bfe366",
   "metadata": {
    "tags": []
   },
   "outputs": [
    {
     "name": "stdin",
     "output_type": "stream",
     "text": [
      "Digite a operação que deseja realizar. \n",
      "Pressione + para adição; \n",
      "- para subtração; \n",
      "* para multiplicação;\n",
      "/ para divisão -\n"
     ]
    }
   ],
   "source": [
    "#  Função que lê a operação que deve ser executada\n",
    "\n",
    "operacao = input(\"\"\"Digite a operação que deseja realizar. \n",
    "Pressione + para adição; \n",
    "- para subtração; \n",
    "* para multiplicação;\n",
    "/ para divisão\"\"\")\n",
    "\n"
   ]
  },
  {
   "cell_type": "code",
   "execution_count": 30,
   "id": "b670d95a-c098-40d0-b960-a2a4d90ce732",
   "metadata": {
    "tags": []
   },
   "outputs": [],
   "source": [
    "def leitora_operacao() -> str:\n",
    "    \"\"\"Esta função solicita a entrada de dados do usuário (operação a ser executada) e armazena essa informação.\"\"\"\n",
    "    operacao = input(\"\"\"Digite a operação que deseja realizar. \n",
    "Pressione + para adição; \n",
    "- para subtração; \n",
    "* para multiplicação;\n",
    "/ para divisão\"\"\")\n",
    "    return operacao"
   ]
  },
  {
   "cell_type": "code",
   "execution_count": 33,
   "id": "27f94562-4356-444f-87b7-a856fdf660d5",
   "metadata": {
    "tags": []
   },
   "outputs": [
    {
     "name": "stdin",
     "output_type": "stream",
     "text": [
      "Digite o número 1 que deseja operar 10\n",
      "Digite o número 2 que deseja operar 2\n",
      "Digite a operação que deseja realizar. \n",
      "Pressione + para adição; \n",
      "- para subtração; \n",
      "* para multiplicação;\n",
      "/ para divisão -\n"
     ]
    },
    {
     "data": {
      "text/plain": [
       "[[10.0, 2.0], '-']"
      ]
     },
     "execution_count": 33,
     "metadata": {},
     "output_type": "execute_result"
    }
   ],
   "source": [
    "def leitora() -> list:\n",
    "    \"\"\"Essa função chama sequencialmente as funções leitora_numeros() e leitora_operacao() para solicitar entrada de dados do usuário em lógica RPN.\"\"\"\n",
    "    lista_numeros = leitora_numeros()\n",
    "    operacao = leitora_operacao()\n",
    "    return [lista_numeros, operacao]\n",
    "\n",
    "leitora()"
   ]
  },
  {
   "cell_type": "markdown",
   "id": "38e68665-12cc-489b-98c0-71ccf092b77a",
   "metadata": {},
   "source": [
    "## Função de saída de dados\n"
   ]
  },
  {
   "cell_type": "code",
   "execution_count": 34,
   "id": "58d81ad4-131d-4669-9a15-c99c1243a5fe",
   "metadata": {
    "tags": []
   },
   "outputs": [
    {
     "name": "stdout",
     "output_type": "stream",
     "text": [
      "2\n"
     ]
    }
   ],
   "source": [
    "resultado = 2\n",
    "print(resultado)"
   ]
  },
  {
   "cell_type": "code",
   "execution_count": 35,
   "id": "aa99a460-3daf-47f0-aa0c-46bebb6e4e88",
   "metadata": {
    "tags": []
   },
   "outputs": [
    {
     "name": "stdout",
     "output_type": "stream",
     "text": [
      "O resultado da operação é igual a 2.\n"
     ]
    }
   ],
   "source": [
    "print(f\"O resultado da operação é igual a {resultado}.\")"
   ]
  },
  {
   "cell_type": "code",
   "execution_count": 36,
   "id": "4be4ff8b-1235-41ef-a8ea-15fc2777bec9",
   "metadata": {
    "tags": []
   },
   "outputs": [
    {
     "name": "stdout",
     "output_type": "stream",
     "text": [
      "O resultado da operação é igual a 9.\n"
     ]
    }
   ],
   "source": [
    "def escritora(resultado):\n",
    "    print(f\"O resultado da operação é igual a {resultado}.\")\n",
    "    \n",
    "resultado = 9\n",
    "escritora(resultado)"
   ]
  },
  {
   "cell_type": "code",
   "execution_count": null,
   "id": "6ffa4a72-4024-4e38-90fe-52e4783a559e",
   "metadata": {},
   "outputs": [],
   "source": [
    "def escritora(resultado:float) -> None:\n",
    "    \"\"\"Esta função coloca o resultado na tela\"\"\n",
    "    print(f\"O resultado da operação é igual a {resultado}.\")"
   ]
  }
 ],
 "metadata": {
  "kernelspec": {
   "display_name": "Python 3 (ipykernel)",
   "language": "python",
   "name": "python3"
  },
  "language_info": {
   "codemirror_mode": {
    "name": "ipython",
    "version": 3
   },
   "file_extension": ".py",
   "mimetype": "text/x-python",
   "name": "python",
   "nbconvert_exporter": "python",
   "pygments_lexer": "ipython3",
   "version": "3.11.5"
  }
 },
 "nbformat": 4,
 "nbformat_minor": 5
}
