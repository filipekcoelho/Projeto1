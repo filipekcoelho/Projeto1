{
 "cells": [
  {
   "cell_type": "markdown",
   "id": "2dd769f9-2d36-4201-8969-64acca1d600b",
   "metadata": {},
   "source": [
    "# Módulo Principal"
   ]
  },
  {
   "cell_type": "code",
   "execution_count": 1,
   "id": "a1653b5d-e927-4748-8da5-4ca279e71e5d",
   "metadata": {
    "tags": []
   },
   "outputs": [],
   "source": [
    "# Importação dos módulos\n",
    "\n",
    "import test_es\n",
    "import test_proc"
   ]
  },
  {
   "cell_type": "code",
   "execution_count": 5,
   "id": "e6e46d28-c11a-41b5-b203-e6c35d080269",
   "metadata": {
    "tags": []
   },
   "outputs": [
    {
     "name": "stdin",
     "output_type": "stream",
     "text": [
      "Digite o número 1 que deseja operar 2\n",
      "Digite o número 2 que deseja operar 3\n",
      "Digite a operação que deseja realizar. \n",
      "Pressione + para adição; \n",
      "- para subtração; \n",
      "* para multiplicação;\n",
      "/ para divisão *\n"
     ]
    }
   ],
   "source": [
    "dados = test_es.leitora()"
   ]
  },
  {
   "cell_type": "code",
   "execution_count": 6,
   "id": "51426150-a6e5-43f1-85e5-cb6b589b86a3",
   "metadata": {
    "tags": []
   },
   "outputs": [
    {
     "data": {
      "text/plain": [
       "[[2.0, 3.0], '*']"
      ]
     },
     "execution_count": 6,
     "metadata": {},
     "output_type": "execute_result"
    }
   ],
   "source": [
    "dados"
   ]
  },
  {
   "cell_type": "code",
   "execution_count": 9,
   "id": "0142a7db-21c9-4b1e-8003-4e563edd8a43",
   "metadata": {
    "tags": []
   },
   "outputs": [
    {
     "name": "stdout",
     "output_type": "stream",
     "text": [
      "6.0\n"
     ]
    }
   ],
   "source": [
    "if dados[1] == \"+\":\n",
    "   resultado = test_proc.somadora(dados[0][0], dados[0][1])\n",
    "elif dados[1] == \"-\":\n",
    "   resultado = test_proc.diminuidora(dados[0][0], dados[0][1])\n",
    "elif dados[1] == \"*\":\n",
    "   resultado = test_proc.mult(dados[0][0], dados[0][1])\n",
    "else: \n",
    "   resultado = test_proc.div(dados[0][0], dados[0][1])\n",
    "\n",
    "print(resultado)"
   ]
  },
  {
   "cell_type": "code",
   "execution_count": null,
   "id": "05419253-a6e4-4c6f-9270-ff216bbe98ce",
   "metadata": {},
   "outputs": [],
   "source": [
    "def escolhedora(dados:list) -> float:\n",
    "    \"\"\"Esta função escolhe a operação adequada de acordo com o usuário.\"\"\"\n",
    "    if dados[1] == \"+\":\n",
    "       resultado = test_proc.somadora(dados[0][0], dados[0][1])\n",
    "    elif dados[1] == \"-\":\n",
    "       resultado = test_proc.diminuidora(dados[0][0], dados[0][1])\n",
    "    elif dados[1] == \"*\":\n",
    "       resultado = test_proc.mult(dados[0][0], dados[0][1])\n",
    "    else: \n",
    "       resultado = test_proc.div(dados[0][0], dados[0][1])\n",
    "    return resultado"
   ]
  }
 ],
 "metadata": {
  "kernelspec": {
   "display_name": "Python 3 (ipykernel)",
   "language": "python",
   "name": "python3"
  },
  "language_info": {
   "codemirror_mode": {
    "name": "ipython",
    "version": 3
   },
   "file_extension": ".py",
   "mimetype": "text/x-python",
   "name": "python",
   "nbconvert_exporter": "python",
   "pygments_lexer": "ipython3",
   "version": "3.11.5"
  }
 },
 "nbformat": 4,
 "nbformat_minor": 5
}
